{
  "cells": [
    {
      "cell_type": "code",
      "execution_count": null,
      "metadata": {
        "id": "XeIP39XN4bua"
      },
      "outputs": [],
      "source": [
        "import pandas as pd\n",
        "from wordcloud import WordCloud\n",
        "import seaborn as sns\n",
        "import matplotlib.pyplot as plt\n",
        "from sklearn.model_selection import train_test_split\n",
        "import tensorflow as tf\n",
        "from transformers import AutoTokenizer, TFAutoModelForSequenceClassification,AutoModelForSequenceClassification"
      ]
    },
    {
      "cell_type": "code",
      "source": [
        "from google.colab import drive\n",
        "drive.mount('/content/drive')"
      ],
      "metadata": {
        "colab": {
          "base_uri": "https://localhost:8080/"
        },
        "id": "N1dL28ExDGTw",
        "outputId": "c3a4a568-0778-4018-b022-8fff3bbb36ec"
      },
      "execution_count": null,
      "outputs": [
        {
          "output_type": "stream",
          "name": "stdout",
          "text": [
            "Mounted at /content/drive\n"
          ]
        }
      ]
    },
    {
      "cell_type": "code",
      "execution_count": null,
      "metadata": {
        "id": "794a028f"
      },
      "outputs": [],
      "source": [
        "df_twitter = pd.read_csv(\"/content/drive/MyDrive/Twitter_Data.csv\")\n",
        "df_reddit = pd.read_csv(\"/content/drive/MyDrive/Reddit_Data.csv\")"
      ]
    },
    {
      "cell_type": "markdown",
      "metadata": {
        "id": "jQ7kCSU36HgA"
      },
      "source": [
        "0 : Indicating it is a Neutral Tweet/Comment\n",
        "\n",
        "1 : Indicating a Postive Sentiment\n",
        "\n",
        "-1 : Indicating a Negative Tweet/Comment"
      ]
    },
    {
      "cell_type": "code",
      "execution_count": 4,
      "metadata": {
        "colab": {
          "base_uri": "https://localhost:8080/",
          "height": 206
        },
        "id": "LcFgQH4j6Av4",
        "outputId": "32bd1849-886a-4da2-d339-2e9382ce286f"
      },
      "outputs": [],
      "source": [
        "df_twitter.head()"
      ]
    },
    {
      "cell_type": "code",
      "execution_count": 5,
      "metadata": {
        "colab": {
          "base_uri": "https://localhost:8080/",
          "height": 206
        },
        "id": "q5i-_HyY6EUG",
        "outputId": "4f10af9d-04dc-477e-87be-a15c85017958"
      },
      "outputs": [],
      "source": [
        "df_reddit.head()"
      ]
    },
    {
      "cell_type": "code",
      "execution_count": null,
      "metadata": {
        "colab": {
          "base_uri": "https://localhost:8080/"
        },
        "id": "zUTITiUB6iGV",
        "outputId": "77e258ee-b37f-42c9-9c1d-7b59bff25c04"
      },
      "outputs": [],
      "source": [
        "df_twitter.info()"
      ]
    },
    {
      "cell_type": "code",
      "execution_count": null,
      "metadata": {
        "colab": {
          "base_uri": "https://localhost:8080/"
        },
        "id": "APzJBcaU6uS6",
        "outputId": "e537ea4b-2b9f-431d-c91c-218c563c7828"
      },
      "outputs": [],
      "source": [
        "df_reddit.info()"
      ]
    },
    {
      "cell_type": "code",
      "execution_count": 8,
      "metadata": {
        "colab": {
          "base_uri": "https://localhost:8080/",
          "height": 147
        },
        "id": "VAc5Hggs63Ec",
        "outputId": "ae28e112-310a-4046-d77c-8bd771ca67db"
      },
      "outputs": [],
      "source": [
        "df_twitter.isnull().sum()"
      ]
    },
    {
      "cell_type": "code",
      "execution_count": 9,
      "metadata": {
        "colab": {
          "base_uri": "https://localhost:8080/",
          "height": 147
        },
        "id": "jMV9yeFD7GeM",
        "outputId": "8b8f31a8-8b68-464a-e140-de32bcdb285f"
      },
      "outputs": [],
      "source": [
        "df_reddit.isnull().sum()"
      ]
    },
    {
      "cell_type": "code",
      "execution_count": null,
      "metadata": {
        "id": "fkwm4prg7JdD"
      },
      "outputs": [],
      "source": [
        "df_twitter = df_twitter.dropna()\n",
        "df_reddit = df_reddit.dropna()"
      ]
    },
    {
      "cell_type": "code",
      "execution_count": 11,
      "metadata": {
        "colab": {
          "base_uri": "https://localhost:8080/",
          "height": 147
        },
        "id": "OWfJR0A9gjwN",
        "outputId": "178c702c-724d-4c69-c4cf-11f28a80690b"
      },
      "outputs": [],
      "source": [
        "df_twitter.isnull().sum()"
      ]
    },
    {
      "cell_type": "code",
      "execution_count": 12,
      "metadata": {
        "colab": {
          "base_uri": "https://localhost:8080/",
          "height": 147
        },
        "id": "2qiyAYI8gjwO",
        "outputId": "85019aa7-b957-4fdf-cdb0-823cd22e9831"
      },
      "outputs": [],
      "source": [
        "df_reddit.isnull().sum()"
      ]
    },
    {
      "cell_type": "code",
      "execution_count": null,
      "metadata": {
        "colab": {
          "base_uri": "https://localhost:8080/"
        },
        "id": "uUQnLKtJgjwO",
        "outputId": "c04edf46-a974-43ec-abc5-90fd097e890a"
      },
      "outputs": [],
      "source": [
        "print(df_twitter.duplicated().sum())\n"
      ]
    },
    {
      "cell_type": "code",
      "execution_count": null,
      "metadata": {
        "colab": {
          "base_uri": "https://localhost:8080/"
        },
        "id": "VOAfIhRvgjwO",
        "outputId": "ed56b536-f3db-4b40-a41a-d0806d8bec27"
      },
      "outputs": [],
      "source": [
        "print(df_reddit.duplicated().sum())"
      ]
    },
    {
      "cell_type": "code",
      "execution_count": null,
      "metadata": {
        "id": "5w0ISpGTgjwO"
      },
      "outputs": [],
      "source": [
        "df_reddit = df_reddit.drop_duplicates()"
      ]
    },
    {
      "cell_type": "code",
      "execution_count": null,
      "metadata": {
        "colab": {
          "base_uri": "https://localhost:8080/"
        },
        "id": "6bBShHZEgjwO",
        "outputId": "b9a45819-b782-4003-b640-3e95aed1cb02"
      },
      "outputs": [],
      "source": [
        "print(df_reddit.duplicated().sum())"
      ]
    },
    {
      "cell_type": "code",
      "execution_count": null,
      "metadata": {
        "id": "LXcjKSbcgjwO"
      },
      "outputs": [],
      "source": [
        "df_twitter.rename(columns = {'clean_text' : 'comment'}, inplace = True)\n",
        "df_reddit.rename(columns = {'clean_comment' : 'comment'}, inplace = True)"
      ]
    },
    {
      "cell_type": "code",
      "execution_count": 18,
      "metadata": {
        "colab": {
          "base_uri": "https://localhost:8080/",
          "height": 81
        },
        "id": "EjzAfggtgjwP",
        "outputId": "54102be1-2d61-4dea-b8a9-74cef6c20610"
      },
      "outputs": [],
      "source": [
        "df_twitter.head(1)"
      ]
    },
    {
      "cell_type": "code",
      "execution_count": 19,
      "metadata": {
        "colab": {
          "base_uri": "https://localhost:8080/",
          "height": 81
        },
        "id": "jdv8aU7ogjwP",
        "outputId": "67f8b659-8889-4af8-acd5-a57a5c80f714"
      },
      "outputs": [],
      "source": [
        "df_reddit.head(1)"
      ]
    },
    {
      "cell_type": "code",
      "execution_count": 20,
      "metadata": {
        "colab": {
          "base_uri": "https://localhost:8080/"
        },
        "id": "vOk4lm2DgjwP",
        "outputId": "2b3596b3-d068-4ea6-c7e0-468c558b7cef"
      },
      "outputs": [],
      "source": [
        "df = pd.concat([df_twitter, df_reddit], axis = 0)\n",
        "df.shape"
      ]
    },
    {
      "cell_type": "code",
      "execution_count": null,
      "metadata": {
        "id": "o7b4FCjogjwP"
      },
      "outputs": [],
      "source": [
        "# Shuffling the rows\n",
        "df = df.sample(frac = 1).reset_index()"
      ]
    },
    {
      "cell_type": "code",
      "execution_count": 22,
      "metadata": {
        "colab": {
          "base_uri": "https://localhost:8080/",
          "height": 423
        },
        "id": "OOaTwSp1gjwP",
        "outputId": "99f259bc-4567-4c5d-fe93-98c09208853a"
      },
      "outputs": [],
      "source": [
        "df"
      ]
    },
    {
      "cell_type": "markdown",
      "metadata": {
        "id": "5W9ZFTVZgjwP"
      },
      "source": [
        "0 : Indicating it is a Neutral Tweet/Comment\n",
        "\n",
        "1 : Indicating a Postive Sentiment\n",
        "\n",
        "-1 : Indicating a Negative Tweet/Comment"
      ]
    },
    {
      "cell_type": "code",
      "execution_count": null,
      "metadata": {
        "colab": {
          "base_uri": "https://localhost:8080/",
          "height": 542
        },
        "id": "IdQbA4t_gjwP",
        "outputId": "64964c29-b2a3-45ce-9f61-0fc2963f6130"
      },
      "outputs": [],
      "source": [
        "plt.figure(figsize = (8, 6))\n",
        "sns.countplot(x = 'category', data = df)\n",
        "plt.show()"
      ]
    },
    {
      "cell_type": "code",
      "execution_count": null,
      "metadata": {
        "id": "BOGy2nRggjwP"
      },
      "outputs": [],
      "source": [
        "comments = \" \".join(df['comment'].tolist())"
      ]
    },
    {
      "cell_type": "code",
      "execution_count": null,
      "metadata": {
        "colab": {
          "base_uri": "https://localhost:8080/",
          "height": 599
        },
        "id": "PqiKaxrMgjwQ",
        "outputId": "34780d98-400d-4d5a-ab8d-01a9890b8f99"
      },
      "outputs": [],
      "source": [
        "wordcloud = WordCloud(width=1920, height=1080).generate(comments)\n",
        "plt.figure(figsize=(10,10))\n",
        "plt.imshow(wordcloud)\n",
        "plt.axis('off')\n",
        "plt.tight_layout(pad=0)\n",
        "plt.show()"
      ]
    },
    {
      "cell_type": "code",
      "execution_count": null,
      "metadata": {
        "id": "aki3MbFckdiS"
      },
      "outputs": [],
      "source": [
        "texts = df['comment'].tolist()"
      ]
    },
    {
      "cell_type": "code",
      "source": [
        "# Train Test split\n",
        "X_train, X_test, y_train, y_test = train_test_split(\n",
        "    df['comment'].to_numpy(),\n",
        "    df['category'].to_numpy(),\n",
        "    test_size=0.1,          # 10% test set\n",
        "    random_state=42,\n",
        "    shuffle=True\n",
        ")\n",
        "\n",
        "#  Validation set\n",
        "X_train, X_val, y_train, y_val = train_test_split(\n",
        "    X_train,\n",
        "    y_train,\n",
        "    test_size=0.1,          # 10% of train → validation\n",
        "    random_state=42,\n",
        "    shuffle=True\n",
        ")\n",
        "\n",
        "print(\"Train size:\", len(X_train))\n",
        "print(\"Validation size:\", len(X_val))\n",
        "print(\"Test size:\", len(X_test))"
      ],
      "metadata": {
        "colab": {
          "base_uri": "https://localhost:8080/"
        },
        "id": "BKcpPn7oQ-oN",
        "outputId": "456d8133-cc61-488c-e0c6-ef5fe83faf6e"
      },
      "execution_count": null,
      "outputs": []
    },
    {
      "cell_type": "code",
      "source": [
        "# Convert to flat strings (avoid nested lists)\n",
        "def flatten_text_list(text_list):\n",
        "    return [str(x[0]) if isinstance(x, list) else str(x) for x in text_list]\n",
        "\n",
        "X_train = flatten_text_list(X_train)\n",
        "X_val   = flatten_text_list(X_val)\n",
        "X_test  = flatten_text_list(X_test)\n"
      ],
      "metadata": {
        "id": "3NND0dc7XFA3"
      },
      "execution_count": null,
      "outputs": []
    },
    {
      "cell_type": "code",
      "source": [
        "# 5️⃣ Tokenizer and model settings\n",
        "max_len = 32  # small length to save memory\n",
        "model_name = \"distilbert-base-uncased\"  # smaller than full BERT\n",
        "tokenizer = AutoTokenizer.from_pretrained(model_name)"
      ],
      "metadata": {
        "colab": {
          "base_uri": "https://localhost:8080/",
          "height": 269,
          "referenced_widgets": []
        },
        "id": "Q2XBFDqIRWzI",
        "outputId": "5055dd5a-6ce8-47be-ff7f-336e7237cb3b"
      },
      "execution_count": null,
      "outputs": []
    },
    {
      "cell_type": "code",
      "source": [
        " # Batch tokenization function\n",
        "def encode_texts_in_batches(texts, batch_size=50):\n",
        "    input_ids_list = []\n",
        "    attention_mask_list = []\n",
        "    for i in range(0, len(texts), batch_size):\n",
        "        batch_texts = texts[i:i+batch_size]\n",
        "        enc = tokenizer(\n",
        "            batch_texts,\n",
        "            truncation=True,\n",
        "            padding='max_length',\n",
        "            max_length=max_len,\n",
        "            return_tensors='tf'\n",
        "        )\n",
        "        input_ids_list.append(enc['input_ids'])\n",
        "        attention_mask_list.append(enc['attention_mask'])\n",
        "    return {\n",
        "        'input_ids': tf.concat(input_ids_list, axis=0),\n",
        "        'attention_mask': tf.concat(attention_mask_list, axis=0)\n",
        "    }\n",
        "\n",
        "train_encodings = encode_texts_in_batches(X_train)\n",
        "val_encodings   = encode_texts_in_batches(X_val)\n",
        "test_encodings  = encode_texts_in_batches(X_test)"
      ],
      "metadata": {
        "colab": {
          "base_uri": "https://localhost:8080/"
        },
        "id": "nYq_vq1cRcX_",
        "outputId": "66bce620-1d42-4576-f1e1-fba63915ba0a"
      },
      "execution_count": null,
      "outputs": []
    },
    {
      "cell_type": "code",
      "source": [
        "# TensorFlow datasets\n",
        "batch_size = 4\n",
        "train_dataset = tf.data.Dataset.from_tensor_slices((train_encodings, y_train)).shuffle(100).batch(batch_size)\n",
        "val_dataset   = tf.data.Dataset.from_tensor_slices((val_encodings, y_val)).batch(batch_size)\n",
        "test_dataset  = tf.data.Dataset.from_tensor_slices((test_encodings, y_test)).batch(batch_size)"
      ],
      "metadata": {
        "id": "SEdsprL6XWQ2"
      },
      "execution_count": null,
      "outputs": []
    },
    {
      "cell_type": "code",
      "source": [
        "# Load the DistilBERT model\n",
        "num_labels = 3\n",
        "model = TFAutoModelForSequenceClassification.from_pretrained(model_name, num_labels=num_labels, use_safetensors=False)"
      ],
      "metadata": {
        "colab": {
          "base_uri": "https://localhost:8080/",
          "height": 156,
          "referenced_widgets": []
        },
        "id": "fibjWI_IYYOT",
        "outputId": "43cdc4a9-4849-4201-a515-0530ea7d0063"
      },
      "execution_count": null,
      "outputs": []
    },
    {
      "cell_type": "code",
      "source": [
        "# Compile model\n",
        "optimizer = tf.keras.optimizers.Adam()\n",
        "loss = tf.keras.losses.SparseCategoricalCrossentropy(from_logits=True)\n",
        "metrics = ['accuracy']\n",
        "\n",
        "model.compile(optimizer=optimizer, loss=loss, metrics=metrics)"
      ],
      "metadata": {
        "id": "KVN-IWweYbWx"
      },
      "execution_count": null,
      "outputs": []
    },
    {
      "cell_type": "code",
      "source": [
        "# Train model\n",
        "model.fit(\n",
        "    train_dataset,\n",
        "    validation_data=val_dataset,\n",
        "    epochs=3)"
      ],
      "metadata": {
        "id": "DW1Urq7QYv_K"
      },
      "execution_count": null,
      "outputs": []
    },
    {
      "cell_type": "code",
      "source": [
        "# Evaluate on test set\n",
        "test_loss, test_acc = model.evaluate(test_dataset)\n",
        "print(f\"Test Accuracy: {test_acc:.4f}\")"
      ],
      "metadata": {
        "colab": {
          "base_uri": "https://localhost:8080/"
        },
        "id": "pfI9PuHeY3wF",
        "outputId": "8128efd7-359c-4b27-aa26-86acb75cf464"
      },
      "execution_count": null,
      "outputs": []
    }
  ],
  "metadata": {
    "accelerator": "TPU",
    "colab": {
      "gpuType": "V5E1",
      "provenance": []
    },
    "kernelspec": {
      "display_name": "Python 3",
      "name": "python3"
    },
    "language_info": {
      "codemirror_mode": {
        "name": "ipython",
        "version": 3
      },
      "file_extension": ".py",
      "mimetype": "text/x-python",
      "name": "python",
      "nbconvert_exporter": "python",
      "pygments_lexer": "ipython3",
      "version": "3.13.5"
    }
  },
  "nbformat": 4,
  "nbformat_minor": 0
}